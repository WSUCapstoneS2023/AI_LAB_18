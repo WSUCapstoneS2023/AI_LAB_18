{
 "cells": [
  {
   "cell_type": "code",
   "execution_count": 1,
   "metadata": {},
   "outputs": [
    {
     "name": "stdout",
     "output_type": "stream",
     "text": [
      "\"Example text, and Example phone numbers: ********** and **********.\"\n"
     ]
    }
   ],
   "source": [
    "import requests\n",
    "import json\n",
    "import pprint\n",
    "\n",
    "# payload = {\n",
    "#     \"value1\": \"3\",\n",
    "#     \"value2\": \"4\"}\n",
    "payload = {\n",
    "  \"data\": \"Example text, and Example phone numbers: (360)-333-3333 and (553)-333-3333.\"\n",
    "}\n",
    "\n",
    "\n",
    "resp = requests.post(\"https://e2wblqqgw4.execute-api.us-east-2.amazonaws.com/default/MyLambdaTest2\", \\\n",
    "              data=json.dumps(payload), headers={\"Content-Type\": \"application/json\"})\n",
    "\n",
    "print(resp.text)\n",
    "# print(resp.)\n",
    "#resp_dict = json.loads(resp.text)\n",
    "#print(pprint.pformat(resp_dict))\n",
    "\n",
    "\n",
    "#1 string manipulation\n",
    "#2 get string "
   ]
  }
 ],
 "metadata": {
  "kernelspec": {
   "display_name": "Python 3",
   "language": "python",
   "name": "python3"
  },
  "language_info": {
   "codemirror_mode": {
    "name": "ipython",
    "version": 3
   },
   "file_extension": ".py",
   "mimetype": "text/x-python",
   "name": "python",
   "nbconvert_exporter": "python",
   "pygments_lexer": "ipython3",
   "version": "3.10.6"
  },
  "orig_nbformat": 4
 },
 "nbformat": 4,
 "nbformat_minor": 2
}
